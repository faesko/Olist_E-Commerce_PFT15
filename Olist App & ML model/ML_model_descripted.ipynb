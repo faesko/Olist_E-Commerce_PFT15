{
 "cells": [
  {
   "cell_type": "code",
   "execution_count": null,
   "metadata": {},
   "outputs": [],
   "source": [
    "# Modelo y performance\n",
    "from imblearn.over_sampling import RandomOverSampler\n",
    "from sklearn.preprocessing import StandardScaler, OneHotEncoder, OrdinalEncoder\n",
    "\n",
    "from sklearn.ensemble import RandomForestClassifier\n",
    "from sklearn.svm import SVC\n",
    "from sklearn.naive_bayes import GaussianNB\n",
    "from sklearn.tree import DecisionTreeClassifier\n",
    "from sklearn.neighbors import KNeighborsClassifier\n",
    "\n",
    "from sklearn.metrics import classification_report\n",
    "from sklearn.model_selection import train_test_split\n",
    "\n",
    "# Visualización de la data\n",
    "import matplotlib.pyplot as plt\n",
    "import seaborn as sns\n",
    "\n",
    "# Manipulación de la data\n",
    "import pandas as pd\n",
    "import numpy as np"
   ]
  },
  {
   "cell_type": "code",
   "execution_count": null,
   "metadata": {},
   "outputs": [],
   "source": [
    "def plot_corre_heatmap(corr):\n",
    "    '''\n",
    "    Recibe como parametro un dataframe de correlaciones entre las columnas.\n",
    "    '''\n",
    "    \n",
    "    plt.figure(figsize=(30,26))\n",
    "    sns.heatmap(corr, cbar = True,  square = False, annot=True, fmt= '.2f',annot_kws={'size': 15},cmap= 'coolwarm')\n",
    "    #plt.xticks(rotation = 45)\n",
    "    #plt.yticks(rotation = 45)\n",
    "\n",
    "    # Se arregla un problema de visualización\n",
    "    b, t = plt.ylim() # Muestra los valores\n",
    "    b += 0.5 # Se agrega 0.5 al bottom\n",
    "    t -= 0.5 # Se resta 0.5 del top\n",
    "    plt.ylim(b, t) # Se actualiza el valor del ylim(bottom, top)\n",
    "    plt.show()"
   ]
  },
  {
   "cell_type": "code",
   "execution_count": null,
   "metadata": {},
   "outputs": [],
   "source": [
    "def transform(df, target='', test_size=False, random_state=False, ros=False):\n",
    "\n",
    "    ord_enc = OrdinalEncoder(dtype=np.int64)\n",
    "    one_hot = OneHotEncoder(dtype=np.int64)\n",
    "\n",
    "    columns_to_ordinal = ['product_id', 'seller_id', 'customer_id', 'cod_estado_customer', 'cod_estado_seller']\n",
    "    columns_to_one_hot = ['payment_type']\n",
    "\n",
    "    df[columns_to_ordinal] = ord_enc.fit_transform(df[columns_to_ordinal])\n",
    "    df_one_hot = one_hot.fit_transform(df[columns_to_one_hot]).toarray()\n",
    "    df_one_hot_labels = np.concatenate(one_hot.categories_).tolist()\n",
    "    df_one_hot = pd.DataFrame(df_one_hot, columns=df_one_hot_labels)\n",
    "    df = pd.concat([df, df_one_hot], axis=1)\n",
    "    df.drop('payment_type', axis=1, inplace=True)\n",
    "\n",
    "    df[[target]] = df[[target]].mask(df[[target]] <= 3, 0)\n",
    "    df[[target]] = df[[target]].mask(df[[target]] > 3, 1)\n",
    "\n",
    "    y = df[[target]]\n",
    "    X = df.drop(target, axis=1)\n",
    "\n",
    "    scaler = StandardScaler()\n",
    "\n",
    "    if test_size:\n",
    "\n",
    "        if ros:\n",
    "            ros = RandomOverSampler(sampling_strategy=ros)\n",
    "            X, y = ros.fit_resample(X, y)\n",
    "\n",
    "        X_Train, X_Test, Y_Train, Y_Test = train_test_split(X, y, test_size=test_size, random_state=random_state)\n",
    "        X_Train = scaler.fit_transform(X_Train)\n",
    "        X_Test = scaler.transform(X_Test)\n",
    "\n",
    "        return X_Train, X_Test, Y_Train, Y_Test\n",
    "\n",
    "    else:\n",
    "\n",
    "        X = scaler.fit_transform(X)\n",
    "\n",
    "        return X, y"
   ]
  },
  {
   "cell_type": "code",
   "execution_count": null,
   "metadata": {},
   "outputs": [],
   "source": [
    "df_train_test = pd.read_csv('datasets\\olist_to_train_test.csv')\n",
    "X_Train, X_Test, Y_Train, Y_Test = transform(df_train_test, target='review_score', test_size=0.2, random_state=40, ros=0.8)"
   ]
  },
  {
   "cell_type": "code",
   "execution_count": null,
   "metadata": {},
   "outputs": [],
   "source": [
    "# Para correlacionar con los datos estandarizados\n",
    "\n",
    "a = X_Train.copy()\n",
    "a = pd.DataFrame(a)\n",
    "b = Y_Train.reset_index(drop=True)\n",
    "a = pd.concat([a, b], axis=1, ignore_index=True)\n"
   ]
  },
  {
   "cell_type": "code",
   "execution_count": null,
   "metadata": {},
   "outputs": [],
   "source": [
    "#corr = a.corr()\n",
    "#plot_corre_heatmap(corr)"
   ]
  },
  {
   "cell_type": "code",
   "execution_count": null,
   "metadata": {},
   "outputs": [],
   "source": [
    "rfc_model = RandomForestClassifier()\n",
    "rfc_model.fit(X_Train, Y_Train.values.ravel())\n",
    "rfc_Y_Pred = rfc_model.predict(X_Test)"
   ]
  },
  {
   "cell_type": "code",
   "execution_count": null,
   "metadata": {},
   "outputs": [],
   "source": [
    "naives_model = GaussianNB()\n",
    "naives_model.fit(X_Train, Y_Train.values.ravel())\n",
    "gaus_Y_Pred = naives_model.predict(X_Test)"
   ]
  },
  {
   "cell_type": "code",
   "execution_count": null,
   "metadata": {},
   "outputs": [],
   "source": [
    "tree_model = DecisionTreeClassifier()\n",
    "tree_model.fit(X_Train, Y_Train.values.ravel())\n",
    "tree_Y_Pred = tree_model.predict(X_Test)"
   ]
  },
  {
   "cell_type": "code",
   "execution_count": null,
   "metadata": {},
   "outputs": [],
   "source": [
    "knn_model = KNeighborsClassifier(n_neighbors=5)\n",
    "knn_model.fit(X_Train, Y_Train.values.ravel())\n",
    "knn_Y_Pred = knn_model.predict(X_Test)"
   ]
  },
  {
   "cell_type": "code",
   "execution_count": null,
   "metadata": {},
   "outputs": [],
   "source": [
    "svc_model = SVC(kernel='linear')\n",
    "svc_model.fit(X_Train, Y_Train.values.ravel())\n",
    "svc_Y_Pred = svc_model.predict(X_Test)"
   ]
  },
  {
   "cell_type": "code",
   "execution_count": null,
   "metadata": {},
   "outputs": [],
   "source": [
    "df_to_pred = pd.read_csv('datasets\\olist_to_predict.csv')\n",
    "X_to_pred, y_real = transform(df_to_pred, target='review_score')"
   ]
  },
  {
   "cell_type": "code",
   "execution_count": null,
   "metadata": {},
   "outputs": [],
   "source": [
    "rfc_Y_Pred2 = rfc_model.predict(X_to_pred)\n",
    "gaus_Y_Pred2 = naives_model.predict(X_to_pred)\n",
    "tree_Y_Pred2 = tree_model.predict(X_to_pred)\n",
    "knn_Y_Pred2 = knn_model.predict(X_to_pred)\n",
    "svc_Y_Pred2 = svc_model.predict(X_to_pred)\n"
   ]
  },
  {
   "cell_type": "code",
   "execution_count": null,
   "metadata": {},
   "outputs": [],
   "source": [
    "#RandomForestClassifier\n",
    "print('Train', classification_report(Y_Test, rfc_Y_Pred), 'Real', classification_report(y_real, rfc_Y_Pred2))"
   ]
  },
  {
   "cell_type": "code",
   "execution_count": null,
   "metadata": {},
   "outputs": [],
   "source": [
    "#GaussianNB\n",
    "print('Train', classification_report(Y_Test, gaus_Y_Pred), 'Real', classification_report(y_real, gaus_Y_Pred2))"
   ]
  },
  {
   "cell_type": "code",
   "execution_count": null,
   "metadata": {},
   "outputs": [],
   "source": [
    "#DecisionTreeClassifier\n",
    "print('Train', classification_report(Y_Test, tree_Y_Pred), 'Real', classification_report(y_real, tree_Y_Pred2))"
   ]
  },
  {
   "cell_type": "code",
   "execution_count": null,
   "metadata": {},
   "outputs": [],
   "source": [
    "#KNeighborsClassifier\n",
    "print('Train', classification_report(Y_Test, knn_Y_Pred), 'Real', classification_report(y_real, knn_Y_Pred2))"
   ]
  },
  {
   "cell_type": "code",
   "execution_count": null,
   "metadata": {},
   "outputs": [],
   "source": [
    "#SVC\n",
    "print('Train', classification_report(Y_Test, svc_Y_Pred), 'Real', classification_report(y_real, svc_Y_Pred2))"
   ]
  },
  {
   "cell_type": "code",
   "execution_count": null,
   "metadata": {},
   "outputs": [],
   "source": [
    "'''\n",
    "import sqlite3 as sql\n",
    "\n",
    "query = \"\"\"SELECT\n",
    "    oi.product_id, oi.seller_id, strftime('%s', oi.shipping_limit_date) shipping_limit_date, oi.price, oi.freight_value,\n",
    "    o.customer_id, strftime('%s', o.order_purchase_timestamp) order_purchase_timestamp, strftime('%s', o.order_approved_at) order_approved_at, strftime('%s', o.order_delivered_carrier_date) order_delivered_carrier_date, strftime('%s', o.order_delivered_customer_date) order_delivered_customer_date, strftime('%s', o.order_estimated_delivery_date) order_estimated_delivery_date,\n",
    "    p.product_name_lenght, p.product_description_lenght, p.product_photos_qty, p.product_weight_g, p.product_length_cm, p.product_height_cm, p.product_width_cm,\n",
    "    pc.product_category_id,\n",
    "    c.CEP AS CEP_customer,\n",
    "    g_cus.cod_estado AS cod_estado_customer,\n",
    "    s.CEP AS CEP_seller,\n",
    "    g_sell.cod_estado AS cod_estado_seller,\n",
    "    op.payment_sequential, op.payment_type, op.payment_installments, op.payment_value\n",
    "FROM order_items oi\n",
    "JOIN orders o ON (oi.order_id = o.order_id)\n",
    "JOIN products p ON (oi.product_id = p.product_id)\n",
    "JOIN product_category pc ON (p.product_category_id = pc.product_category_id)\n",
    "JOIN customers c ON (o.customer_id = c.customer_id)\n",
    "JOIN geolocation g_cus ON (c.CEP = g_cus.CEP)\n",
    "JOIN sellers s ON (oi.seller_id = s.seller_id)\n",
    "JOIN order_payments op ON (op.order_id = o.order_id)\n",
    "JOIN geolocation g_sell ON (s.CEP = g_sell.CEP)\n",
    "WHERE o.order_status != 'canceled'\n",
    "AND o.order_delivered_customer_date != '2016-01-01 00:00:00.000000'\n",
    "AND o.order_purchase_timestamp BETWEEN '2018-08-22' AND DATETIME('now')\"\"\"\n",
    "\n",
    "conn = sql.connect('olist.db')\n",
    "cursor = conn.cursor()\n",
    "cursor.execute(query)\n",
    "nombres_columnas = [desc[0] for desc in cursor.description]\n",
    "resultados = cursor.fetchall()\n",
    "df = pd.DataFrame(resultados, columns=nombres_columnas)\n",
    "conn.close()\n",
    "'''  "
   ]
  }
 ],
 "metadata": {
  "kernelspec": {
   "display_name": "Python 3.11.1 ('venv': venv)",
   "language": "python",
   "name": "python3"
  },
  "language_info": {
   "codemirror_mode": {
    "name": "ipython",
    "version": 3
   },
   "file_extension": ".py",
   "mimetype": "text/x-python",
   "name": "python",
   "nbconvert_exporter": "python",
   "pygments_lexer": "ipython3",
   "version": "3.11.1"
  },
  "orig_nbformat": 4,
  "vscode": {
   "interpreter": {
    "hash": "6d0b3a5e36cf1a8be137012ea91c84b73ab29f441632b2f2cf227441a9789c94"
   }
  }
 },
 "nbformat": 4,
 "nbformat_minor": 2
}
