{
 "cells": [
  {
   "cell_type": "code",
   "execution_count": null,
   "metadata": {},
   "outputs": [],
   "source": [
    "import pandas as pd\n",
    "import numpy as np\n",
    "import requests\n",
    "from unidecode import unidecode\n",
    "\n",
    "from Database_creator import engine"
   ]
  },
  {
   "cell_type": "code",
   "execution_count": 2,
   "metadata": {},
   "outputs": [],
   "source": [
    "class Etl():\n",
    "\n",
    "    def __init__(self):\n",
    "        \n",
    "        self.geolocation = None\n",
    "        self.customers = None\n",
    "        self.sellers = None\n",
    "        self.orders = None\n",
    "        self.order_reviews = None\n",
    "        self.order_payments = None\n",
    "        self.product_category = None\n",
    "        self.products = None\n",
    "        self.order_items = None\n",
    "        self.mql = None\n",
    "        self.close_deals = None\n",
    "    \n",
    "\n",
    "    def extract(self):\n",
    "        \n",
    "        self.customers = pd.read_csv('https://raw.githubusercontent.com/olist/work-at-olist-data/master/datasets/olist_customers_dataset.csv')\n",
    "        self.sellers = pd.read_csv('https://raw.githubusercontent.com/olist/work-at-olist-data/master/datasets/olist_sellers_dataset.csv')\n",
    "        self.orders = pd.read_csv('https://raw.githubusercontent.com/olist/work-at-olist-data/master/datasets/olist_orders_dataset.csv')\n",
    "        self.order_reviews = pd.read_csv('https://raw.githubusercontent.com/olist/work-at-olist-data/master/datasets/olist_order_reviews_dataset.csv')\n",
    "        self.order_payments = pd.read_csv('https://raw.githubusercontent.com/olist/work-at-olist-data/master/datasets/olist_order_payments_dataset.csv')\n",
    "        self.product_category = pd.read_csv('https://raw.githubusercontent.com/olist/work-at-olist-data/master/datasets/product_category_name_translation.csv')\n",
    "        self.products = pd.read_csv('https://raw.githubusercontent.com/olist/work-at-olist-data/master/datasets/olist_products_dataset.csv')\n",
    "        self.order_items = pd.read_csv('https://raw.githubusercontent.com/olist/work-at-olist-data/master/datasets/olist_order_items_dataset.csv')\n",
    "        self.mql = pd.read_csv('../Datasets/olist_marketing_qualified_leads_dataset.csv')\n",
    "        self.close_deals = pd.read_csv('../Datasets/olist_closed_deals_dataset.csv')\n",
    "\n",
    "\n",
    "    def transform(self, add_product_category={}, validate=False):\n",
    "        \n",
    "        self.customers.rename(columns={'customer_zip_code_prefix': 'CEP', 'customer_city': 'cidade', 'customer_state': 'cod_estado'}, inplace=True)\n",
    "        self.sellers.rename(columns={'seller_zip_code_prefix': 'CEP', 'seller_city': 'cidade', 'seller_state': 'cod_estado'}, inplace=True)\n",
    "\n",
    "        if validate:\n",
    "\n",
    "            def get_diff(table, table_db, id, drop_inplace=True):\n",
    "\n",
    "                table = table[~table[id].isin(table_db[id])].dropna()\n",
    "                table.drop_duplicates(id, keep='last', inplace=drop_inplace)\n",
    "\n",
    "                return table\n",
    "\n",
    "            geolocation_DB = pd.read_sql_table('geolocation', engine.connect())\n",
    "            customers_geo_DB_diff = get_diff(self.customers, geolocation_DB, 'CEP')\n",
    "            self.geolocation = pd.concat([self.geolocation, customers_geo_DB_diff[['CEP', 'cidade', 'cod_estado']]], ignore_index=True)\n",
    "            sellers_geo_DB_diff = get_diff(self.sellers, geolocation_DB, 'CEP')\n",
    "            self.geolocation = pd.concat([self.geolocation, sellers_geo_DB_diff[['CEP', 'cidade', 'cod_estado']]], ignore_index=True)\n",
    "\n",
    "            customers_DB = pd.read_sql_table('customers', engine.connect())\n",
    "            self.customers = get_diff(self.customers, customers_DB, 'customer_id')\n",
    "            \n",
    "            sellers_DB = pd.read_sql_table('sellers', engine.connect())\n",
    "            self.sellers = get_diff(self.sellers, sellers_DB, 'seller_id')\n",
    "\n",
    "            product_category_DB = pd.read_sql_table('product_category', engine.connect())\n",
    "            if add_product_category and type(add_product_category) == dict:\n",
    "                self.product_category = pd.DataFrame(add_product_category)\n",
    "                self.product_category.index += (len(product_category_DB) + 1)\n",
    "                self.product_category = self.product_category.rename_axis('product_category_id').reset_index()\n",
    "                self.product_category = pd.concat([product_category_DB, self.product_category], ignore_index=True)\n",
    "            else:\n",
    "                self.product_category = product_category_DB.copy()\n",
    "\n",
    "            products_DB = pd.read_sql_table('products', engine.connect())\n",
    "            self.products = get_diff(self.products, products_DB, 'product_id')\n",
    "\n",
    "            orders_DB = pd.read_sql_table('orders', engine.connect())\n",
    "            self.orders = get_diff(self.orders, orders_DB, 'order_id')\n",
    "\n",
    "            order_reviews_DB = pd.read_sql_table('order_reviews', engine.connect())\n",
    "            self.order_reviews = get_diff(self.order_reviews, order_reviews_DB, 'review_code')\n",
    "\n",
    "            order_items_DB = pd.read_sql_table('order_items', engine.connect())\n",
    "            self.order_items = get_diff(self.order_items, order_items_DB, 'order_id', drop_inplace=False)\n",
    "\n",
    "            order_payments_DB = pd.read_sql_table('order_payments', engine.connect())\n",
    "            self.order_payments = get_diff(self.order_payments, order_payments_DB, 'order_id', drop_inplace=False)\n",
    "\n",
    "            mql_DB = pd.read_sql_table('marketing_qualified_leads', engine.connect())\n",
    "            self.mql = get_diff(self.mql, mql_DB, 'mql_id')\n",
    "\n",
    "            close_deals_DB = pd.read_sql_table('close_deals', engine.connect())\n",
    "            self.close_deals = get_diff(self.close_deals, close_deals_DB, 'mql_id', drop_inplace=False)\n",
    "\n",
    "        else:\n",
    "            \n",
    "            url = 'https://parseapi.back4app.com/classes/CEP?limit=730321&order=cidade&keys=CEP,cidade,estado'\n",
    "            headers = {'X-Parse-Application-Id': '0yGhkskBgC6LMtROXg0SoyHMyl6yYa4SStdCLBpX',\n",
    "                'X-Parse-Master-Key': 'Dv9aEYXQtwEQRmeR4BMXX8YadeE9CyNy6PJFJPQe'}\n",
    "\n",
    "            self.geolocation = pd.DataFrame(requests.get(url, headers=headers).json()['results'])\n",
    "            self.geolocation.drop(['objectId', 'createdAt', 'updatedAt'], axis=1, inplace=True)\n",
    "            self.geolocation['estado'] = self.geolocation['estado'].str.split(expand=True)[0]\n",
    "            self.geolocation['CEP'] = self.geolocation['CEP'].apply(lambda x: x[:-3])\n",
    "            self.geolocation['cidade'] = self.geolocation['cidade'].str.extract(r'\\((.*)\\)', expand=False).fillna(self.geolocation['cidade'])\n",
    "            self.geolocation.drop_duplicates('CEP', keep='last', inplace=True)\n",
    "            self.geolocation['CEP'] = self.geolocation['CEP'].astype('int64')\n",
    "            self.geolocation.rename(columns={'estado': 'cod_estado'}, inplace=True)\n",
    "\n",
    "            customers_geo_diff = self.customers[~self.customers['CEP'].isin(self.geolocation['CEP'])].dropna().drop_duplicates('CEP', keep='last')\n",
    "            self.geolocation = pd.concat([self.geolocation, customers_geo_diff[['CEP', 'cidade', 'cod_estado']]], ignore_index=True)\n",
    "\n",
    "            sellers_geo_diff = self.sellers[~self.sellers['CEP'].isin(self.geolocation['CEP'])].dropna().drop_duplicates('CEP', keep='last')\n",
    "            self.geolocation = pd.concat([self.geolocation, sellers_geo_diff[['CEP', 'cidade', 'cod_estado']]], ignore_index=True)\n",
    "\n",
    "            categories = pd.DataFrame({'product_category_name': ['pc_gamer', 'sem dados', 'portateis_cozinha_e_preparadores_de_alimentos'],\n",
    "                'product_category_name_english': ['pc gamer', 'no data','kitchen portables and food preparators']})\n",
    "            self.product_category = pd.concat([self.product_category, categories], ignore_index=True)\n",
    "            self.product_category['product_category_name_spanish'] = pd.DataFrame({'product_category_name_spanish': \n",
    "                ['Salud y belleza', 'Accesorios de computadores', 'Automovil', 'Cama, mesa y baño', 'Decoracion y muebles', 'Ocio y deportes', 'Perfumeria',\n",
    "                'Articulos del hogar', 'Telefonia', 'Relojes y regalos', 'Alimentos y bebidas', 'Bebes', 'Papeleria', 'Impresion de imagen y tablets', 'Juguetes',\n",
    "                'Telefonia fija', 'Herramientas de jardin', 'Bolsos, moda y accesorios', 'Pequeños accesorios', 'Consolas y juegos', 'Audio', 'Moda y zapatos',\n",
    "                'Cosas interesantes', 'Accesorios de equipaje', 'Aire acondicionado', 'Herramientas de construccion', 'Cocina, comedor, lavanderia, jardin y muebles',\n",
    "                'Herramientas de construccion de jardin', 'Ropa moda hombre', 'Tienda de mascotas', 'Muebles de oficina', 'Mercado', 'Electronica', 'Electrodomesticos',\n",
    "                'Suministros fiesta', 'Comodidad del hogar', 'Herramientas de construccion y herramientas', 'Agroindustria y comercio', 'Muebles, colchones y tapiceria',\n",
    "                'Libros tecnicos', 'Construccion del hogar', 'Instrumentos musicales', 'Muebles de sala', 'Herramientas de construccion y luces',\n",
    "                'Industria, comercio y negocios', 'Comida', 'Arte', 'Muebles de dormitorio', 'Libros de interes general', 'Herramientas de construccion y seguridad',\n",
    "                'Moda, ropa interior, playa', 'Moda y deportes', 'Señalizacion y seguridad', 'Computadores', 'Suministros de navidad', 'Ropa moda mujer',\n",
    "                'Electrodomesticos 2', 'Libros importados', 'Bebidas', 'Cine y fotografia', 'Cocina', 'Musica', 'Comodidad del hogar 2', \n",
    "                'Pequeños accesorios del hogar, horno y cafe', 'CDs, DVDs y musicales', 'DVDs y blu-ray', 'Flores', 'Arte y artesania', 'Pañales e higiene',\n",
    "                'Moda ropa de niños', 'Seguridad y servicios', 'Computadores gamer', 'Sin dato', 'Portatiles de cocina y preparadores de comida',  'Decoracion muebles']})\n",
    "            self.product_category.index += 1\n",
    "            self.product_category = self.product_category.rename_axis('product_category_id').reset_index()\n",
    "            \n",
    "        self.products['product_category_name'].replace({np.nan: 'sem dados'}, inplace=True)\n",
    "        self.products.fillna(0, inplace=True)\n",
    "        self.products = self.products.astype({'product_name_lenght': 'int64', 'product_description_lenght': 'int64', 'product_photos_qty': 'int64',\n",
    "            'product_weight_g': 'int64', 'product_length_cm': 'int64', 'product_height_cm': 'int64', 'product_width_cm': 'int64'})\n",
    "        self.products = self.products.merge(self.product_category, how='left', on=['product_category_name'])\n",
    "        self.products.drop(['product_category_name', 'product_category_name_english', 'product_category_name_spanish'], axis=1, inplace=True)\n",
    "\n",
    "        self.orders.fillna('2016-01-01 00:00:00', inplace=True)\n",
    "        self.orders = self.orders.astype({'order_purchase_timestamp': 'datetime64', 'order_approved_at': 'datetime64', 'order_delivered_carrier_date': 'datetime64',\n",
    "            'order_delivered_customer_date': 'datetime64', 'order_estimated_delivery_date': 'datetime64'})\n",
    "\n",
    "        #self.order_reviews.drop(['review_comment_title', 'review_comment_message'], axis=1, inplace=True)\n",
    "        #self.order_reviews = self.order_reviews.astype({'review_creation_date': 'datetime64', 'review_answer_timestamp': 'datetime64'})\n",
    "        #self.order_reviews.rename(columns={'review_id': 'review_code'}, inplace=True)\n",
    "        self.order_reviews = self.order_reviews[['order_id', 'review_score']].drop_duplicates('order_id', keep='last')\n",
    "                        \n",
    "        self.order_items.drop(['order_item_id'], axis=1, inplace=True)\n",
    "        self.order_items.drop_duplicates(inplace=True)\n",
    "        self.order_items = self.order_items.merge(self.order_reviews[['order_id', 'review_score']], how='left', on=['order_id'])\n",
    "        self.order_items.dropna(inplace=True)\n",
    "        self.order_items['shipping_limit_date'] = self.order_items['shipping_limit_date'].astype('datetime64')\n",
    "\n",
    "        self.order_payments.drop_duplicates('order_id', keep='last', inplace=True) # Hay duplicados con valores diferentes, se conserva el ultimo registro\n",
    "\n",
    "        self.mql.fillna('no_data', inplace=True)\n",
    "        self.mql = self.mql.astype({'first_contact_date': 'datetime64'})\n",
    "\n",
    "        self.close_deals.drop(['lead_behaviour_profile', 'has_company', 'has_gtin', 'average_stock', 'declared_product_catalog_size'], axis=1, inplace=True)\n",
    "        self.close_deals.fillna('no_data', inplace=True)\n",
    "        self.close_deals = self.close_deals.astype({'won_date': 'datetime64'})\n",
    "\n",
    "        self.geolocation.sort_values(by='CEP', inplace=True)\n",
    "        self.geolocation['cidade'] = self.geolocation['cidade'].apply(lambda x: unidecode(x).title())\n",
    "        estados = ['Acre', 'Alagoas', 'Amapa', 'Amazonas', 'Bahia', 'Ceara', 'Brasilia', 'Espírito Santo', 'Goias', 'Maranhao', 'Mato Grosso',\n",
    "            'Mato Grosso do Sul', 'Minas Gerais', 'Para', 'Paraíba', 'Parana', 'Pernambuco', 'Piaui', 'Rio de Janeiro', 'Rio Grande do Norte',\n",
    "            'Rio Grande do Sul', 'Rondonia', 'Roraima', 'Santa Catarina', 'Sao Paulo', 'Sergipe', 'Tocantins']\n",
    "        cod_estados = ['AC', 'AL', 'AP', 'AM', 'BA', 'CE', 'DF', 'ES', 'GO', 'MA', 'MT', 'MS', 'MG', 'PA', 'PB', 'PR', 'PE', 'PI', 'RJ', 'RN', 'RS',\n",
    "            'RO', 'RR', 'SC', 'SP', 'SE', 'TO']\n",
    "        self.geolocation = self.geolocation.merge(pd.DataFrame({'estado': estados, 'cod_estado': cod_estados}), on='cod_estado')\n",
    "\n",
    "        self.customers.drop(['customer_unique_id', 'cidade', 'cod_estado'], axis=1, inplace=True)\n",
    "        \n",
    "        self.sellers.drop(['cidade', 'cod_estado'], axis=1, inplace=True)\n",
    "\n",
    "\n",
    "    def load(self):\n",
    "\n",
    "        self.geolocation.to_sql('geolocation', engine, if_exists='append', index=False)\n",
    "        self.customers.to_sql('customers', engine, if_exists='append', index=False)\n",
    "        self.sellers.to_sql('sellers', engine, if_exists='append', index=False)\n",
    "        self.orders.to_sql('orders', engine, if_exists='append', index=False)\n",
    "        #self.order_reviews.to_sql('order_reviews', engine, if_exists='append', index=False)\n",
    "        self.order_payments.to_sql('order_payments', engine, if_exists='append', index=False)\n",
    "        self.product_category.to_sql('product_category', engine, if_exists='append', index=False)\n",
    "        self.products.to_sql('products', engine, if_exists='append', index=False)\n",
    "        self.order_items.to_sql('order_items', engine, if_exists='append', index=False)\n",
    "        self.mql.to_sql('marketing_qualified_leads', engine, if_exists='append', index=False)\n",
    "        self.close_deals.to_sql('close_deals', engine, if_exists='append', index=False)\n",
    "\n",
    "    \n",
    "    def train_test_predict_split(self):\n",
    "        \n",
    "        ml_df = self.order_items.copy()\n",
    "        ml_df = ml_df.merge(self.orders, how='left', on='order_id')\n",
    "        ml_df = ml_df.merge(self.products, how='left', on='product_id')\n",
    "        ml_df = ml_df.merge(self.customers, how='left', on='customer_id')\n",
    "        ml_df = ml_df.merge(self.geolocation[['CEP', 'cod_estado']], how='left', on='CEP')\n",
    "        ml_df = ml_df.merge(self.sellers, how='left', on='seller_id', suffixes=('_customer', '_seller'))\n",
    "        ml_df = ml_df.merge(self.geolocation[['CEP', 'cod_estado']], how='left', left_on='CEP_seller', right_on='CEP', suffixes=('_customer', '_seller'))\n",
    "        ml_df = ml_df.merge(self.order_payments, on=['order_id'])\n",
    "        ml_df[ml_df.select_dtypes(include=['datetime']).columns] = (ml_df.select_dtypes(include=['datetime']).astype('int64') / 10**9).astype(int)\n",
    "        ml_df.drop(ml_df[ml_df['order_status'] == 'canceled'].index, inplace=True)\n",
    "        ml_df.drop(ml_df[ml_df['order_delivered_customer_date'] == 1451606400].index, inplace=True)\n",
    "        ml_df.drop(['order_id', 'CEP', 'order_status'], axis=1, inplace=True)\n",
    "        ml_df = ml_df.astype({'review_score': 'int64', 'payment_sequential': 'int64', 'payment_installments': 'int64'})\n",
    "        ml_df.query(\"order_purchase_timestamp < 1534896000\").to_csv('datasets\\olist_to_train_test', index=False)\n",
    "        ml_df.query(\"order_purchase_timestamp >= 1534896000\").to_csv('datasets\\olist_to_predict', index=False)\n"
   ]
  },
  {
   "cell_type": "code",
   "execution_count": 3,
   "metadata": {},
   "outputs": [],
   "source": [
    "etl = Etl()"
   ]
  },
  {
   "cell_type": "code",
   "execution_count": 4,
   "metadata": {},
   "outputs": [],
   "source": [
    "etl.extract()"
   ]
  },
  {
   "cell_type": "code",
   "execution_count": null,
   "metadata": {},
   "outputs": [],
   "source": [
    "etl.customers.info()"
   ]
  },
  {
   "cell_type": "code",
   "execution_count": null,
   "metadata": {},
   "outputs": [],
   "source": [
    "etl.sellers.info()"
   ]
  },
  {
   "cell_type": "code",
   "execution_count": null,
   "metadata": {},
   "outputs": [],
   "source": [
    "etl.orders.info()"
   ]
  },
  {
   "cell_type": "code",
   "execution_count": null,
   "metadata": {},
   "outputs": [],
   "source": [
    "etl.order_reviews.info()"
   ]
  },
  {
   "cell_type": "code",
   "execution_count": null,
   "metadata": {},
   "outputs": [],
   "source": [
    "etl.order_payments.info()"
   ]
  },
  {
   "cell_type": "code",
   "execution_count": null,
   "metadata": {},
   "outputs": [],
   "source": [
    "etl.product_category.info()"
   ]
  },
  {
   "cell_type": "code",
   "execution_count": null,
   "metadata": {},
   "outputs": [],
   "source": [
    "etl.products.info()"
   ]
  },
  {
   "cell_type": "code",
   "execution_count": null,
   "metadata": {},
   "outputs": [],
   "source": [
    "etl.order_items.info()"
   ]
  },
  {
   "cell_type": "code",
   "execution_count": null,
   "metadata": {},
   "outputs": [],
   "source": [
    "etl.mql.info()"
   ]
  },
  {
   "cell_type": "code",
   "execution_count": null,
   "metadata": {},
   "outputs": [],
   "source": [
    "etl.close_deals.info()"
   ]
  },
  {
   "cell_type": "code",
   "execution_count": 5,
   "metadata": {},
   "outputs": [],
   "source": [
    "etl.transform()"
   ]
  },
  {
   "cell_type": "code",
   "execution_count": null,
   "metadata": {},
   "outputs": [],
   "source": [
    "etl.geolocation.info()"
   ]
  },
  {
   "cell_type": "code",
   "execution_count": null,
   "metadata": {},
   "outputs": [],
   "source": [
    "etl.customers.info()"
   ]
  },
  {
   "cell_type": "code",
   "execution_count": null,
   "metadata": {},
   "outputs": [],
   "source": [
    "etl.sellers.info()"
   ]
  },
  {
   "cell_type": "code",
   "execution_count": null,
   "metadata": {},
   "outputs": [],
   "source": [
    "etl.orders.info()"
   ]
  },
  {
   "cell_type": "code",
   "execution_count": null,
   "metadata": {},
   "outputs": [],
   "source": [
    "etl.order_reviews.info()"
   ]
  },
  {
   "cell_type": "code",
   "execution_count": null,
   "metadata": {},
   "outputs": [],
   "source": [
    "etl.order_payments.info()"
   ]
  },
  {
   "cell_type": "code",
   "execution_count": null,
   "metadata": {},
   "outputs": [],
   "source": [
    "etl.product_category.info()"
   ]
  },
  {
   "cell_type": "code",
   "execution_count": null,
   "metadata": {},
   "outputs": [],
   "source": [
    "etl.products.info()"
   ]
  },
  {
   "cell_type": "code",
   "execution_count": null,
   "metadata": {},
   "outputs": [],
   "source": [
    "etl.order_items.info()"
   ]
  },
  {
   "cell_type": "code",
   "execution_count": null,
   "metadata": {},
   "outputs": [],
   "source": [
    "etl.mql.info()"
   ]
  },
  {
   "cell_type": "code",
   "execution_count": null,
   "metadata": {},
   "outputs": [],
   "source": [
    "etl.close_deals.info()"
   ]
  },
  {
   "cell_type": "code",
   "execution_count": null,
   "metadata": {},
   "outputs": [],
   "source": [
    "etl.load()"
   ]
  },
  {
   "cell_type": "code",
   "execution_count": 7,
   "metadata": {},
   "outputs": [],
   "source": [
    "etl.train_test_predict_split()"
   ]
  }
 ],
 "metadata": {
  "kernelspec": {
   "display_name": "Python 3.11.1 ('venv': venv)",
   "language": "python",
   "name": "python3"
  },
  "language_info": {
   "codemirror_mode": {
    "name": "ipython",
    "version": 3
   },
   "file_extension": ".py",
   "mimetype": "text/x-python",
   "name": "python",
   "nbconvert_exporter": "python",
   "pygments_lexer": "ipython3",
   "version": "3.11.1"
  },
  "orig_nbformat": 4,
  "vscode": {
   "interpreter": {
    "hash": "8a542c5de6a35ceb8aa188eed4de6ad3f64ad4bbd5b71eaa36e683550d13dbf9"
   }
  }
 },
 "nbformat": 4,
 "nbformat_minor": 2
}
